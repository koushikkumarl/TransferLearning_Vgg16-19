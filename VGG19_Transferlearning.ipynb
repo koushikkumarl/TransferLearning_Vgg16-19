{
 "cells": [
  {
   "cell_type": "code",
   "execution_count": 1,
   "metadata": {},
   "outputs": [],
   "source": [
    "#import required libraries - we do need the models, flatten, dense, input layers \n",
    "import numpy as np \n",
    "import pandas as pd\n",
    "from glob import glob \n",
    "import matplotlib.pyplot as plt\n",
    "from tensorflow.keras.layers import Input, Lambda, Dense, Flatten\n",
    "from tensorflow.keras.models import Model\n",
    "from tensorflow.keras.applications.vgg16 import VGG16\n",
    "from tensorflow.keras.applications.vgg19 import VGG19\n",
    "from tensorflow.keras.preprocessing import image\n",
    "from tensorflow.keras.preprocessing.image import ImageDataGenerator\n",
    "from tensorflow.keras.models import Sequential"
   ]
  },
  {
   "cell_type": "code",
   "execution_count": 2,
   "metadata": {},
   "outputs": [
    {
     "name": "stdout",
     "output_type": "stream",
     "text": [
      "Found 3458 images belonging to 5 classes.\n",
      "Found 430 images belonging to 5 classes.\n",
      "Found 435 images belonging to 5 classes.\n"
     ]
    }
   ],
   "source": [
    "# Path for train, validation and test datasets\n",
    "train_path = 'Datasets/train'\n",
    "valid_path = 'Datasets/test'\n",
    "test_path = 'Datasets/val' \n",
    "\n",
    "IMAGE_SIZE = [224, 224] #Default image size for VGG16 \n",
    "\n",
    "folders = glob('Datasets/train/*') #Get number of classes\n",
    "\n",
    "\n",
    "# ImageDataGenerator can help perform augumentation on existing images. This way, we get more diverse train set.\n",
    "train_datagen = ImageDataGenerator(rescale = 1./255, shear_range = 0.2, zoom_range = 0.2, horizontal_flip = True)\n",
    "validation_datagen = ImageDataGenerator(rescale = 1./255)\n",
    "test_datagen = ImageDataGenerator(rescale = 1./255)\n",
    "\n",
    "#Through flow_from_directory - we create an array of images that can be used for training. \n",
    "training_set = train_datagen.flow_from_directory('Datasets/train',\n",
    "                                                 target_size = (224, 224),\n",
    "                                                 batch_size = 64,\n",
    "                                                 class_mode = 'categorical')\n",
    "\n",
    "validation_set = validation_datagen.flow_from_directory('Datasets/val',\n",
    "                                                 target_size = (224, 224),\n",
    "                                                 batch_size = 64,\n",
    "                                                 class_mode = 'categorical')\n",
    "\n",
    "test_set = test_datagen.flow_from_directory('Datasets/test',\n",
    "                                            target_size = (224, 224),\n",
    "                                            batch_size = 32,\n",
    "                                            class_mode = 'categorical')"
   ]
  },
  {
   "cell_type": "code",
   "execution_count": 3,
   "metadata": {},
   "outputs": [
    {
     "name": "stdout",
     "output_type": "stream",
     "text": [
      "Model: \"functional_1\"\n",
      "_________________________________________________________________\n",
      "Layer (type)                 Output Shape              Param #   \n",
      "=================================================================\n",
      "input_1 (InputLayer)         [(None, 224, 224, 3)]     0         \n",
      "_________________________________________________________________\n",
      "block1_conv1 (Conv2D)        (None, 224, 224, 64)      1792      \n",
      "_________________________________________________________________\n",
      "block1_conv2 (Conv2D)        (None, 224, 224, 64)      36928     \n",
      "_________________________________________________________________\n",
      "block1_pool (MaxPooling2D)   (None, 112, 112, 64)      0         \n",
      "_________________________________________________________________\n",
      "block2_conv1 (Conv2D)        (None, 112, 112, 128)     73856     \n",
      "_________________________________________________________________\n",
      "block2_conv2 (Conv2D)        (None, 112, 112, 128)     147584    \n",
      "_________________________________________________________________\n",
      "block2_pool (MaxPooling2D)   (None, 56, 56, 128)       0         \n",
      "_________________________________________________________________\n",
      "block3_conv1 (Conv2D)        (None, 56, 56, 256)       295168    \n",
      "_________________________________________________________________\n",
      "block3_conv2 (Conv2D)        (None, 56, 56, 256)       590080    \n",
      "_________________________________________________________________\n",
      "block3_conv3 (Conv2D)        (None, 56, 56, 256)       590080    \n",
      "_________________________________________________________________\n",
      "block3_conv4 (Conv2D)        (None, 56, 56, 256)       590080    \n",
      "_________________________________________________________________\n",
      "block3_pool (MaxPooling2D)   (None, 28, 28, 256)       0         \n",
      "_________________________________________________________________\n",
      "block4_conv1 (Conv2D)        (None, 28, 28, 512)       1180160   \n",
      "_________________________________________________________________\n",
      "block4_conv2 (Conv2D)        (None, 28, 28, 512)       2359808   \n",
      "_________________________________________________________________\n",
      "block4_conv3 (Conv2D)        (None, 28, 28, 512)       2359808   \n",
      "_________________________________________________________________\n",
      "block4_conv4 (Conv2D)        (None, 28, 28, 512)       2359808   \n",
      "_________________________________________________________________\n",
      "block4_pool (MaxPooling2D)   (None, 14, 14, 512)       0         \n",
      "_________________________________________________________________\n",
      "block5_conv1 (Conv2D)        (None, 14, 14, 512)       2359808   \n",
      "_________________________________________________________________\n",
      "block5_conv2 (Conv2D)        (None, 14, 14, 512)       2359808   \n",
      "_________________________________________________________________\n",
      "block5_conv3 (Conv2D)        (None, 14, 14, 512)       2359808   \n",
      "_________________________________________________________________\n",
      "block5_conv4 (Conv2D)        (None, 14, 14, 512)       2359808   \n",
      "_________________________________________________________________\n",
      "block5_pool (MaxPooling2D)   (None, 7, 7, 512)         0         \n",
      "_________________________________________________________________\n",
      "flatten (Flatten)            (None, 25088)             0         \n",
      "_________________________________________________________________\n",
      "dense (Dense)                (None, 5)                 125445    \n",
      "=================================================================\n",
      "Total params: 20,149,829\n",
      "Trainable params: 125,445\n",
      "Non-trainable params: 20,024,384\n",
      "_________________________________________________________________\n"
     ]
    }
   ],
   "source": [
    "# Create a VGG16 model, and removing the last layer that is classifying 1000 images. This will be replaced with images classes we have. \n",
    "#vgg = VGG16(input_shape=IMAGE_SIZE + [3], weights='imagenet', include_top=False) #Training with Imagenet weights\n",
    "\n",
    "# Use this line for VGG19 network. Create a VGG19 model, and removing the last layer that is classifying 1000 images. This will be replaced with images classes we have. \n",
    "vgg = VGG19(input_shape=IMAGE_SIZE + [3], weights='imagenet', include_top=False) \n",
    "\n",
    "# This sets the base that the layers are not trainable. If we'd want to train the layers with custom data, these two lines can be ommitted. \n",
    "for layer in vgg.layers:\n",
    "  layer.trainable = False\n",
    "\n",
    "x = Flatten()(vgg.output) #Output obtained on vgg16 is now flattened. \n",
    "prediction = Dense(len(folders), activation='softmax')(x) # We have 5 classes, and so, the prediction is being done on len(folders) - 5 classes\n",
    "\n",
    "#Creating model object \n",
    "model = Model(inputs=vgg.input, outputs=prediction)\n",
    "\n",
    "model.summary()"
   ]
  },
  {
   "cell_type": "code",
   "execution_count": 4,
   "metadata": {},
   "outputs": [
    {
     "name": "stdout",
     "output_type": "stream",
     "text": [
      "Epoch 1/20\n",
      "55/55 [==============================] - 69s 1s/step - loss: 1.1604 - accuracy: 0.5943 - val_loss: 0.6855 - val_accuracy: 0.7860\n",
      "Epoch 2/20\n",
      "55/55 [==============================] - 77s 1s/step - loss: 0.6387 - accuracy: 0.7739 - val_loss: 0.5416 - val_accuracy: 0.8023\n",
      "Epoch 3/20\n",
      "55/55 [==============================] - 78s 1s/step - loss: 0.5048 - accuracy: 0.8155 - val_loss: 0.6214 - val_accuracy: 0.7837\n",
      "Epoch 4/20\n",
      "55/55 [==============================] - 79s 1s/step - loss: 0.4873 - accuracy: 0.8201 - val_loss: 0.5301 - val_accuracy: 0.8279\n",
      "Epoch 5/20\n",
      "55/55 [==============================] - 79s 1s/step - loss: 0.3779 - accuracy: 0.8687 - val_loss: 0.4548 - val_accuracy: 0.8372\n",
      "Epoch 6/20\n",
      "55/55 [==============================] - 79s 1s/step - loss: 0.3255 - accuracy: 0.8924 - val_loss: 0.5248 - val_accuracy: 0.8000\n",
      "Epoch 7/20\n",
      "55/55 [==============================] - 79s 1s/step - loss: 0.3171 - accuracy: 0.8855 - val_loss: 0.4923 - val_accuracy: 0.8442\n",
      "Epoch 8/20\n",
      "55/55 [==============================] - 79s 1s/step - loss: 0.2996 - accuracy: 0.8904 - val_loss: 0.5202 - val_accuracy: 0.8140\n",
      "Epoch 9/20\n",
      "55/55 [==============================] - 79s 1s/step - loss: 0.2578 - accuracy: 0.9118 - val_loss: 0.4537 - val_accuracy: 0.8233\n",
      "Epoch 10/20\n",
      "55/55 [==============================] - 79s 1s/step - loss: 0.2445 - accuracy: 0.9222 - val_loss: 0.4603 - val_accuracy: 0.8442\n",
      "Epoch 11/20\n",
      "55/55 [==============================] - 81s 1s/step - loss: 0.2821 - accuracy: 0.9031 - val_loss: 0.5500 - val_accuracy: 0.8186\n",
      "Epoch 12/20\n",
      "55/55 [==============================] - 73s 1s/step - loss: 0.2366 - accuracy: 0.9211 - val_loss: 0.5157 - val_accuracy: 0.7977\n",
      "Epoch 13/20\n",
      "55/55 [==============================] - 59s 1s/step - loss: 0.2124 - accuracy: 0.9303 - val_loss: 0.4857 - val_accuracy: 0.8349\n",
      "Epoch 14/20\n",
      "55/55 [==============================] - 59s 1s/step - loss: 0.2572 - accuracy: 0.9115 - val_loss: 0.5049 - val_accuracy: 0.8395\n",
      "Epoch 15/20\n",
      "55/55 [==============================] - 63s 1s/step - loss: 0.1691 - accuracy: 0.9445 - val_loss: 0.5562 - val_accuracy: 0.8326\n",
      "Epoch 16/20\n",
      "55/55 [==============================] - 61s 1s/step - loss: 0.1648 - accuracy: 0.9494 - val_loss: 0.4650 - val_accuracy: 0.8465\n",
      "Epoch 17/20\n",
      "55/55 [==============================] - 57s 1s/step - loss: 0.1412 - accuracy: 0.9621 - val_loss: 0.4757 - val_accuracy: 0.8419\n",
      "Epoch 18/20\n",
      "55/55 [==============================] - 65s 1s/step - loss: 0.1512 - accuracy: 0.9537 - val_loss: 0.5046 - val_accuracy: 0.8326\n",
      "Epoch 19/20\n",
      "55/55 [==============================] - 60s 1s/step - loss: 0.1382 - accuracy: 0.9572 - val_loss: 0.4919 - val_accuracy: 0.8349\n",
      "Epoch 20/20\n",
      "55/55 [==============================] - 60s 1s/step - loss: 0.1125 - accuracy: 0.9702 - val_loss: 0.5060 - val_accuracy: 0.8256\n"
     ]
    }
   ],
   "source": [
    "#Compile the model \n",
    "model.compile(loss='categorical_crossentropy', optimizer='adam', metrics=['accuracy']) \n",
    "history = model.fit(training_set, validation_data=validation_set, epochs=20, batch_size=32)"
   ]
  },
  {
   "cell_type": "code",
   "execution_count": 5,
   "metadata": {},
   "outputs": [
    {
     "data": {
      "image/png": "[encoded data removed]",
      "text/plain": [
       "<Figure size 432x288 with 1 Axes>"
      ]
     },
     "metadata": {
      "needs_background": "light"
     },
     "output_type": "display_data"
    },
    {
     "data": {
      "image/png": "[encoded data removed]",
      "text/plain": [
       "<Figure size 432x288 with 1 Axes>"
      ]
     },
     "metadata": {
      "needs_background": "light"
     },
     "output_type": "display_data"
    },
    {
     "data": {
      "text/plain": [
       "<Figure size 432x288 with 0 Axes>"
      ]
     },
     "metadata": {},
     "output_type": "display_data"
    }
   ],
   "source": [
    "# loss\n",
    "plt.plot(history.history['loss'], label='train loss')\n",
    "plt.plot(history.history['val_loss'], label='val loss')\n",
    "plt.legend()\n",
    "plt.show()\n",
    "plt.savefig('LossVal_loss')\n",
    "\n",
    "# accuracies\n",
    "plt.plot(history.history['accuracy'], label='train acc')\n",
    "plt.plot(history.history['val_accuracy'], label='val acc')\n",
    "plt.legend()\n",
    "plt.show()\n",
    "plt.savefig('AccVal_acc')"
   ]
  },
  {
   "cell_type": "code",
   "execution_count": 6,
   "metadata": {},
   "outputs": [],
   "source": [
    "from tensorflow.keras.models import load_model\n",
    "model.save('FlowerClassification_VGG19.h5')"
   ]
  }
 ],
 "metadata": {
  "kernelspec": {
   "display_name": "KerasEnv",
   "language": "python",
   "name": "kerasenv"
  },
  "language_info": {
   "codemirror_mode": {
    "name": "ipython",
    "version": 3
   },
   "file_extension": ".py",
   "mimetype": "text/x-python",
   "name": "python",
   "nbconvert_exporter": "python",
   "pygments_lexer": "ipython3",
   "version": "3.7.9"
  }
 },
 "nbformat": 4,
 "nbformat_minor": 4
}
